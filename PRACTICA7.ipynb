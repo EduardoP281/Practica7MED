{
 "cells": [
  {
   "cell_type": "code",
   "execution_count": 3,
   "metadata": {},
   "outputs": [
    {
     "name": "stdout",
     "output_type": "stream",
     "text": [
      "No se puede bobi\n"
     ]
    }
   ],
   "source": [
    "try:\n",
    "    resultado = 10/0\n",
    "except ZeroDivisionError:\n",
    "    print(\"No se puede bobi\")"
   ]
  },
  {
   "cell_type": "code",
   "execution_count": 5,
   "metadata": {},
   "outputs": [
    {
     "name": "stdout",
     "output_type": "stream",
     "text": [
      "El resultaado es 1.6666666666666667\n"
     ]
    }
   ],
   "source": [
    "try:\n",
    "    valor = int(input(\"Ingrese un numero\"))\n",
    "    resultado = 10 / valor\n",
    "except ValueError:\n",
    "    print(\"Troleado papu, pon un numero valido\")\n",
    "except ZeroDivisionError:\n",
    "    print(\"No se puede dividir por cero bobalicon\")\n",
    "else: \n",
    "    print(f\"El resultaado es {resultado}\")"
   ]
  },
  {
   "cell_type": "code",
   "execution_count": null,
   "metadata": {},
   "outputs": [],
   "source": [
    "try:\n",
    "    a = int(input(\"Digite el primer numero: \"))\n",
    "    b = int(input(\"Digite el segundo numero: \"))\n",
    "    resultado = a/b\n",
    "except ZeroDivisionError:\n",
    "    print(\"Error, el subnormal dividio entre 0\")\n",
    "else:\n",
    "    print(\"El resultado es: \", resultado)\n",
    "finally:\n",
    "    print(\"Terminao \")"
   ]
  },
  {
   "cell_type": "code",
   "execution_count": 6,
   "metadata": {},
   "outputs": [
    {
     "name": "stdout",
     "output_type": "stream",
     "text": [
      "No puedes dividir entre cero\n"
     ]
    }
   ],
   "source": [
    "def dividir (a, b):\n",
    "    if b == 0:\n",
    "        raise ValueError (\"No puedes dividir entre cero\")\n",
    "    return a / b\n",
    "\n",
    "try:\n",
    "    resultado = dividir (10, 0)\n",
    "except ValueError as e:\n",
    "    print(e)\n",
    "else:\n",
    "    print(resultado)  "
   ]
  },
  {
   "cell_type": "code",
   "execution_count": 7,
   "metadata": {},
   "outputs": [
    {
     "name": "stdout",
     "output_type": "stream",
     "text": [
      "Saldo retirado, su cuenta queda a 435.0\n"
     ]
    }
   ],
   "source": [
    "class cuentaBancaria:\n",
    "    def __init__(self, saldo_inicial):\n",
    "        self.saldo = saldo_inicial\n",
    "\n",
    "    def retirar(self, cantidad):\n",
    "        if self.saldo == 0:\n",
    "            raise ValueError(\"Su cuenta esta en 0\")\n",
    "        if cantidad < 0:\n",
    "            raise ValueError(\"El monto a retirar no puede ser negativo\")\n",
    "        if cantidad > self.saldo and cantidad < self.saldo:\n",
    "            raise ValueError(\"Saldo insuficiente para realizar el retiro\")\n",
    "\n",
    "        self.saldo = cantidad\n",
    "        print(\"Saldo retirado, su cuenta queda a {}\".format(self.saldo))\n",
    "\n",
    "cuenta = cuentaBancaria(1000)\n",
    "\n",
    "try:\n",
    "    cantidad_retirar = float(input(\"Digite la cantidad a retirar: \"))\n",
    "    cuenta.retirar(cantidad_retirar)\n",
    "except ValueError as e:\n",
    "    print(e)"
   ]
  }
 ],
 "metadata": {
  "interpreter": {
   "hash": "00ebb8e2879c2cf15e9209c2ee4ee1f0a61ab3b8c19ef5b9d6c35775417399b1"
  },
  "kernelspec": {
   "display_name": "Python 3.11.1 64-bit",
   "language": "python",
   "name": "python3"
  },
  "language_info": {
   "codemirror_mode": {
    "name": "ipython",
    "version": 3
   },
   "file_extension": ".py",
   "mimetype": "text/x-python",
   "name": "python",
   "nbconvert_exporter": "python",
   "pygments_lexer": "ipython3",
   "version": "3.11.1"
  },
  "orig_nbformat": 4
 },
 "nbformat": 4,
 "nbformat_minor": 2
}
